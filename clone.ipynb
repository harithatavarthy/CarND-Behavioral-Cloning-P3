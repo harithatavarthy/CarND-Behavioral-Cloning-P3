{
 "cells": [
  {
   "cell_type": "code",
   "execution_count": 1,
   "metadata": {},
   "outputs": [
    {
     "name": "stdout",
     "output_type": "stream",
     "text": [
      "Loaded : 4783 lines\n"
     ]
    }
   ],
   "source": [
    "import csv\n",
    "import cv2\n",
    "\n",
    "lines = []\n",
    "with open('.\\data\\driving_log.csv') as csvfile:\n",
    "    reader = csv.reader(csvfile)\n",
    "    for line in reader:\n",
    "        lines.append(line)\n",
    "        \n",
    "images = []\n",
    "measurements = []\n",
    "\n",
    "for line in lines:\n",
    "    source_path = line[0]\n",
    "    filename = source_path.split('IMG')[-1]\n",
    "    current_path = '.\\data\\IMG' + filename\n",
    "    image = cv2.imread(current_path)\n",
    "    images.append(image)\n",
    "    measurement = float(line[3])\n",
    "    measurements.append(measurement)\n",
    "\n",
    "print('Loaded :', len(lines),'lines')\n",
    "\n",
    "\n",
    "\n"
   ]
  },
  {
   "cell_type": "code",
   "execution_count": 20,
   "metadata": {},
   "outputs": [
    {
     "name": "stdout",
     "output_type": "stream",
     "text": [
      "Images Loaded : 14349\n"
     ]
    }
   ],
   "source": [
    "import csv\n",
    "import cv2\n",
    "\n",
    "lines = []\n",
    "with open('.\\data\\driving_log.csv') as csvfile:\n",
    "    reader = csv.reader(csvfile)\n",
    "    for line in reader:\n",
    "        lines.append(line)\n",
    "        \n",
    "images = []\n",
    "measurements = []\n",
    "correction = 0.2\n",
    "images_loaded = 0\n",
    "\n",
    "for line in lines:\n",
    "    source_path = line[0]\n",
    "    filename = source_path.split('IMG')[-1]\n",
    "    current_path = '.\\data\\IMG' + filename\n",
    "    image = cv2.imread(current_path)\n",
    "    images.append(image)\n",
    "    measurement = float(line[3])\n",
    "    measurements.append(measurement)\n",
    "    images_loaded = images_loaded + 1\n",
    "    \n",
    "    source_path = line[1]\n",
    "    filename = source_path.split('IMG')[-1]\n",
    "    current_path = '.\\data\\IMG' + filename\n",
    "    image = cv2.imread(current_path)\n",
    "    images.append(image)\n",
    "    measurement = float(line[3])+correction\n",
    "    measurements.append(measurement)\n",
    "    images_loaded = images_loaded + 1\n",
    "    \n",
    "    source_path = line[2]\n",
    "    filename = source_path.split('IMG')[-1]\n",
    "    current_path = '.\\data\\IMG' + filename\n",
    "    image = cv2.imread(current_path)\n",
    "    images.append(image)\n",
    "    measurement = float(line[3])-correction\n",
    "    measurements.append(measurement)\n",
    "    images_loaded = images_loaded + 1\n",
    "    \n",
    "print('Images Loaded :', images_loaded)\n"
   ]
  },
  {
   "cell_type": "code",
   "execution_count": 21,
   "metadata": {},
   "outputs": [
    {
     "name": "stdout",
     "output_type": "stream",
     "text": [
      "Data Augmentation Complete...\n"
     ]
    }
   ],
   "source": [
    "# Here we will flip the images and measurements from original data - As part of data augmentation.\n",
    "augmented_images, augmented_measurements = [], []\n",
    "for image, measurement in zip(images,measurements):\n",
    "    augmented_images.append(image)\n",
    "    augmented_measurements.append(measurement)\n",
    "    augmented_images.append(cv2.flip(image,1))\n",
    "    augmented_measurements.append(measurement*-1.0)\n",
    "print(\"Data Augmentation Complete...\")"
   ]
  },
  {
   "cell_type": "code",
   "execution_count": 22,
   "metadata": {},
   "outputs": [
    {
     "name": "stdout",
     "output_type": "stream",
     "text": [
      "Loading into Numpy Array Done...\n"
     ]
    }
   ],
   "source": [
    "# the image data is now is loaded into numpy array as this is the format KERAS require\n",
    "import numpy as np\n",
    "X_train = np.array(augmented_images)\n",
    "y_train = np.array(augmented_measurements)\n",
    "print(\"Loading into Numpy Array Done...\")"
   ]
  },
  {
   "cell_type": "code",
   "execution_count": 23,
   "metadata": {},
   "outputs": [
    {
     "name": "stdout",
     "output_type": "stream",
     "text": [
      "Train on 20088 samples, validate on 8610 samples\n",
      "Epoch 1/5\n",
      "20088/20088 [==============================] - 344s - loss: 0.3499 - val_loss: 0.3401\n",
      "Epoch 2/5\n",
      "20088/20088 [==============================] - 87s - loss: 0.3419 - val_loss: 0.4053\n",
      "Epoch 3/5\n",
      "20088/20088 [==============================] - 98s - loss: 0.4239 - val_loss: 0.6768\n",
      "Epoch 4/5\n",
      "20088/20088 [==============================] - 56s - loss: 0.2862 - val_loss: 0.3945\n",
      "Epoch 5/5\n",
      "20088/20088 [==============================] - 44s - loss: 0.4681 - val_loss: 0.2477\n"
     ]
    }
   ],
   "source": [
    "from keras.models import Sequential,Model\n",
    "from keras.layers import Flatten,Dense,Lambda,Cropping2D\n",
    "from keras.layers import Convolution2D\n",
    "from keras.layers.pooling import MaxPooling2D\n",
    "\n",
    "model = Sequential()\n",
    "model.add(Lambda((lambda x:(x/255.0) - 0.5),input_shape=(160,320,3)))\n",
    "model.add(Cropping2D(cropping=((70,25),(0,0))))\n",
    "#model.add(Convolution2D(6,5,5,activation='relu'))\n",
    "#model.add(MaxPooling2D())\n",
    "#model.add(Convolution2D(6,5,5,activation='relu'))\n",
    "#model.add(MaxPooling2D())\n",
    "model.add(Flatten())\n",
    "#model.add(Dense(120))\n",
    "#model.add(Dense(84))\n",
    "model.add(Dense(1))\n",
    "\n",
    "model.compile(loss='mse',optimizer='adam')\n",
    "history_object=model.fit(X_train,y_train,validation_split=0.3,shuffle=True,nb_epoch=5)\n",
    "\n",
    "model.save('model.h5')"
   ]
  },
  {
   "cell_type": "code",
   "execution_count": 24,
   "metadata": {},
   "outputs": [
    {
     "name": "stdout",
     "output_type": "stream",
     "text": [
      "dict_keys(['loss', 'val_loss'])\n"
     ]
    },
    {
     "data": {
      "image/png": "[encoded data removed]",
      "text/plain": [
       "<matplotlib.figure.Figure at 0xdb6ebc9710>"
      ]
     },
     "metadata": {},
     "output_type": "display_data"
    }
   ],
   "source": [
    "import matplotlib.pyplot as plt\n",
    "### print the keys contained in the history object\n",
    "print(history_object.history.keys())\n",
    "\n",
    "### plot the training and validation loss for each epoch\n",
    "plt.plot(history_object.history['loss'])\n",
    "plt.plot(history_object.history['val_loss'])\n",
    "plt.title('model mean squared error loss')\n",
    "plt.ylabel('mean squared error loss')\n",
    "plt.xlabel('epoch')\n",
    "plt.legend(['training set', 'validation set'], loc='upper right')\n",
    "plt.show()"
   ]
  },
  {
   "cell_type": "code",
   "execution_count": null,
   "metadata": {
    "collapsed": true
   },
   "outputs": [],
   "source": []
  }
 ],
 "metadata": {
  "kernelspec": {
   "display_name": "Python 3",
   "language": "python",
   "name": "python3"
  },
  "language_info": {
   "codemirror_mode": {
    "name": "ipython",
    "version": 3
   },
   "file_extension": ".py",
   "mimetype": "text/x-python",
   "name": "python",
   "nbconvert_exporter": "python",
   "pygments_lexer": "ipython3",
   "version": "3.5.2"
  },
  "widgets": {
   "state": {},
   "version": "1.1.2"
  }
 },
 "nbformat": 4,
 "nbformat_minor": 2
}
